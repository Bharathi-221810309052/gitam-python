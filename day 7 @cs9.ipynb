{
 "cells": [
  {
   "cell_type": "code",
   "execution_count": 17,
   "metadata": {},
   "outputs": [
    {
     "data": {
      "text/plain": [
       "2"
      ]
     },
     "execution_count": 17,
     "metadata": {},
     "output_type": "execute_result"
    }
   ],
   "source": [
    "# function to find prime numbers count from 1 to N\n",
    "# 10 -- 4(2,3,5,7)\n",
    "def primecount(n):\n",
    "    cnt=0\n",
    "    for a in range(2,n+1):\n",
    "        k=0\n",
    "        for i in range(2,a//2+1):\n",
    "            if a % 1 ==0:\n",
    "                k = k + 1\n",
    "        if(k<=0):\n",
    "            cnt = cnt + 1\n",
    "    return cnt\n",
    "primecount(10)"
   ]
  },
  {
   "cell_type": "code",
   "execution_count": 16,
   "metadata": {},
   "outputs": [
    {
     "name": "stdout",
     "output_type": "stream",
     "text": [
      "1 2 3 4 6 12 "
     ]
    }
   ],
   "source": [
    "# find the factorial of given number\n",
    "def factorslist(n):\n",
    "    for i in range (1,n+1):\n",
    "            if n%i==0:\n",
    "                print(i,end=\" \")\n",
    "    return\n",
    "factorslist(12)"
   ]
  },
  {
   "cell_type": "code",
   "execution_count": 30,
   "metadata": {},
   "outputs": [
    {
     "data": {
      "text/plain": [
       "False"
      ]
     },
     "execution_count": 30,
     "metadata": {},
     "output_type": "execute_result"
    }
   ],
   "source": [
    "# given number is prime or not \n",
    "def isprime(n):\n",
    "    flag = True \n",
    "    for i in range (2,n//2+1):\n",
    "        if n % 1 == 0:\n",
    "            flag = False \n",
    "        return flag\n",
    "    return flag\n",
    "isprime(11)    "
   ]
  },
  {
   "cell_type": "code",
   "execution_count": 1,
   "metadata": {},
   "outputs": [
    {
     "data": {
      "text/plain": [
       "4"
      ]
     },
     "execution_count": 1,
     "metadata": {},
     "output_type": "execute_result"
    }
   ],
   "source": [
    "# Find prime numbers from 1 to 10\n",
    "#10--4(2,3,5,7)\n",
    "def primenumbers(n):\n",
    "    count=0\n",
    "    for a in range(2,n+1):\n",
    "        k=0\n",
    "        for i in range(2,a//2+1):\n",
    "            if a%i==0:\n",
    "                  k=k+1\n",
    "            if(k<=0):    \n",
    "                count=count+1\n",
    "    return count\n",
    "primenumbers(10)"
   ]
  },
  {
   "cell_type": "code",
   "execution_count": 46,
   "metadata": {},
   "outputs": [
    {
     "name": "stdout",
     "output_type": "stream",
     "text": [
      "yes\n",
      "no\n"
     ]
    }
   ],
   "source": [
    "# individual digit factorial sum is same as original number\n",
    "# exampls:-\n",
    "# 145 -- yes (5! + 4!+ 1! = 145)\n",
    "# 123 -- no (3! + 2! +1! = 9)\n",
    "def factorial(n):\n",
    "    fact = 1\n",
    "    for i in range(2,n+1):\n",
    "        fact *= i\n",
    "    return fact \n",
    "def digitfactsum(n):\n",
    "    sum = 0\n",
    "    buffer = n\n",
    "    while n != 0:\n",
    "        r = n%10\n",
    "        sum += factorial(r)\n",
    "        n = n // 10\n",
    "    if sum == buffer:\n",
    "        return \"yes\"\n",
    "    else:\n",
    "        return \"no\"\n",
    "    return\n",
    "print(digitfactsum(145))\n",
    "print(digitfactsum(123))"
   ]
  },
  {
   "cell_type": "code",
   "execution_count": 3,
   "metadata": {},
   "outputs": [
    {
     "data": {
      "text/plain": [
       "10"
      ]
     },
     "execution_count": 3,
     "metadata": {},
     "output_type": "execute_result"
    }
   ],
   "source": [
    "# function to return the count of palindrome number two limits\n",
    "# input : 1 10\n",
    "# output : 9 (1,2,3,4,5,6,7,8,9)\n",
    "\n",
    "# input : 11 100\n",
    "# output : 9 (11,22,33,44,.......,99)\n",
    "def countpalindrome(lb,ub):\n",
    "    count=0\n",
    "    for a in range(lb,ub):\n",
    "        rev=0\n",
    "        temp=a\n",
    "        while a>0:\n",
    "            x=a%10\n",
    "            rev=rev*10+x\n",
    "            a=a//10\n",
    "            if temp==rev:\n",
    "                count=count+1\n",
    "    return count\n",
    "countpalindrome(1,20)"
   ]
  },
  {
   "cell_type": "code",
   "execution_count": 6,
   "metadata": {},
   "outputs": [
    {
     "name": "stdout",
     "output_type": "stream",
     "text": [
      "6 \n",
      "6 28 496 8128 \n"
     ]
    }
   ],
   "source": [
    "# Function to generate the perfect numbers to given range\n",
    "# perfect Number: Sum of its factors same as original number\n",
    "# example:6=1+2+3\n",
    "def factorslist(n):\n",
    "    sum=0\n",
    "    for i in range (1,n//2+1):\n",
    "        if n%i==0:\n",
    "            sum=sum+i\n",
    "    return sum\n",
    "def isperfect(n):\n",
    "    if factorslist(n)==n:\n",
    "        return True\n",
    "    return False\n",
    "def generateperfect(lb,ub):\n",
    "    for x in range(lb,ub+1):\n",
    "        if isperfect(x):\n",
    "            print(x,end=\" \")\n",
    "    print()\n",
    "    return\n",
    "generateperfect(1,10)\n",
    "generateperfect(1,10000)"
   ]
  },
  {
   "cell_type": "code",
   "execution_count": 7,
   "metadata": {},
   "outputs": [
    {
     "name": "stdout",
     "output_type": "stream",
     "text": [
      "P T "
     ]
    }
   ],
   "source": [
    "# Function to print the upper case characters\n",
    "# ASCII :-\n",
    "# A-Z:65-90\n",
    "# a-z:97-122\n",
    "# 0-9:48-57\n",
    "# space :32\n",
    "def printupper(x):\n",
    "    for i in range(len(x)):\n",
    "        if ord(x[i])>=65 and ord(x[i])<=90:\n",
    "            print(x[i],end=\" \")\n",
    "    return\n",
    "printupper(\"PyThon\")"
   ]
  },
  {
   "cell_type": "code",
   "execution_count": 8,
   "metadata": {},
   "outputs": [
    {
     "name": "stdout",
     "output_type": "stream",
     "text": [
      "same count\n"
     ]
    }
   ],
   "source": [
    "# Function to print \"python\" if the count of\n",
    "# Upper and lower case is same\n",
    "# print \"programming\" if not same\n",
    "# Example: PyThOn-- 3 P T O (Upper case)\n",
    " #                   3 y h n (Lower case)  \n",
    "def printcount(x):\n",
    "    count=0\n",
    "    k=0\n",
    "    for i in range (len(x)):\n",
    "        if ord(x[i])>=65 and ord(x[i])<=90:\n",
    "               count=count+1\n",
    "        elif  ord(x[i])>=97 and ord(x[i])<=122:\n",
    "                k=k+1\n",
    "    if count==k:\n",
    "      print(\"same count\")\n",
    "    else:\n",
    "        print(\"programming\")\n",
    "    return\n",
    "printcount(\"PytHoN\")"
   ]
  },
  {
   "cell_type": "code",
   "execution_count": 9,
   "metadata": {},
   "outputs": [
    {
     "name": "stdout",
     "output_type": "stream",
     "text": [
      "1 8 8 9 "
     ]
    }
   ],
   "source": [
    "# Extract digits from given string\n",
    "# Example:\n",
    "# Input=Applicat8ion89\n",
    "# Output: 1 8 8 9\n",
    "def strngdigits(n):\n",
    "    for i in range(len(n)):\n",
    "        if ord(n[i])>=48 and ord(n[i])<=57:\n",
    "            print(n[i],end=\" \")\n",
    "    return   \n",
    "strngdigits(\"Appli1cat8ion89\")"
   ]
  },
  {
   "cell_type": "code",
   "execution_count": 12,
   "metadata": {},
   "outputs": [
    {
     "data": {
      "text/plain": [
       "26"
      ]
     },
     "execution_count": 12,
     "metadata": {},
     "output_type": "execute_result"
    }
   ],
   "source": [
    "# Function to return the sum of digits in a given string\n",
    "def strngsum(n):\n",
    "    sum=0\n",
    "    for i in range(len(n)):\n",
    "        if ord(n[i])>=48 and ord(n[i])<=57:\n",
    "            sum=sum+(ord(n[i])-48)\n",
    "    return sum  \n",
    "strngsum(\"Appli1cat8ion89\")"
   ]
  },
  {
   "cell_type": "code",
   "execution_count": 13,
   "metadata": {},
   "outputs": [
    {
     "data": {
      "text/plain": [
       "16"
      ]
     },
     "execution_count": 13,
     "metadata": {},
     "output_type": "execute_result"
    }
   ],
   "source": [
    "def evendigits(n):\n",
    "    sum=0\n",
    "    for i in range(len(n)):\n",
    "        if ord(n[i])>=48 and ord(n[i])<=57:\n",
    "            if (ord(n[i])-48)%2==0:\n",
    "                sum=sum+(ord(n[i])-48)\n",
    "    return sum  \n",
    "evendigits(\"Appli1cat8ion89\")"
   ]
  },
  {
   "cell_type": "code",
   "execution_count": 14,
   "metadata": {},
   "outputs": [
    {
     "name": "stdout",
     "output_type": "stream",
     "text": [
      "M A D E "
     ]
    }
   ],
   "source": [
    "# Function to print the specific word in uppercase\n",
    "# Example:\n",
    "# Input :Python Made Easy\n",
    "# Output:MADE\n",
    "#Input: Learn Python Programming\n",
    "#output:PYTHON\n",
    "def worduppercase(s):\n",
    "    spacecnt=0\n",
    "    for x in range(len(s)):\n",
    "        if ord(s[x])==32:\n",
    "            spacecnt+=1\n",
    "        if spacecnt==1:\n",
    "            if ord(s[x])>=65 and ord(s[x])<=90:\n",
    "                print(s[x],end=\" \")\n",
    "            elif ord(s[x])>=97 and ord(s[x])<=122:\n",
    "                print(chr(ord(s[x])-32),end=\" \")\n",
    "            if spacecnt==2:\n",
    "                break\n",
    "    return\n",
    "worduppercase('Python Made Easy')"
   ]
  }
 ],
 "metadata": {
  "kernelspec": {
   "display_name": "Python 3",
   "language": "python",
   "name": "python3"
  },
  "language_info": {
   "codemirror_mode": {
    "name": "ipython",
    "version": 3
   },
   "file_extension": ".py",
   "mimetype": "text/x-python",
   "name": "python",
   "nbconvert_exporter": "python",
   "pygments_lexer": "ipython3",
   "version": "3.7.3"
  }
 },
 "nbformat": 4,
 "nbformat_minor": 2
}
