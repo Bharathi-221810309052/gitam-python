{
 "cells": [
  {
   "cell_type": "code",
   "execution_count": 17,
   "metadata": {},
   "outputs": [
    {
     "data": {
      "text/plain": [
       "2"
      ]
     },
     "execution_count": 17,
     "metadata": {},
     "output_type": "execute_result"
    }
   ],
   "source": [
    "# function to find prime numbers count from 1 to N\n",
    "# 10 -- 4(2,3,5,7)\n",
    "def primecount(n):\n",
    "    cnt=0\n",
    "    for a in range(2,n+1):\n",
    "        k=0\n",
    "        for i in range(2,a//2+1):\n",
    "            if a % 1 ==0:\n",
    "                k = k + 1\n",
    "        if(k<=0):\n",
    "            cnt = cnt + 1\n",
    "    return cnt\n",
    "primecount(10)"
   ]
  },
  {
   "cell_type": "code",
   "execution_count": 16,
   "metadata": {},
   "outputs": [
    {
     "name": "stdout",
     "output_type": "stream",
     "text": [
      "1 2 3 4 6 12 "
     ]
    }
   ],
   "source": [
    "# find the factorial of given number\n",
    "def factorslist(n):\n",
    "    for i in range (1,n+1):\n",
    "            if n%i==0:\n",
    "                print(i,end=\" \")\n",
    "    return\n",
    "factorslist(12)"
   ]
  },
  {
   "cell_type": "code",
   "execution_count": 30,
   "metadata": {},
   "outputs": [
    {
     "data": {
      "text/plain": [
       "False"
      ]
     },
     "execution_count": 30,
     "metadata": {},
     "output_type": "execute_result"
    }
   ],
   "source": [
    "# given number is prime or not \n",
    "def isprime(n):\n",
    "    flag = True \n",
    "    for i in range (2,n//2+1):\n",
    "        if n % 1 == 0:\n",
    "            flag = False \n",
    "        return flag\n",
    "    return flag\n",
    "isprime(11)    "
   ]
  },
  {
   "cell_type": "code",
   "execution_count": 46,
   "metadata": {},
   "outputs": [
    {
     "name": "stdout",
     "output_type": "stream",
     "text": [
      "yes\n",
      "no\n"
     ]
    }
   ],
   "source": [
    "# individual digit factorial sum is same as original number\n",
    "# exampls:-\n",
    "# 145 -- yes (5! + 4!+ 1! = 145)\n",
    "# 123 -- no (3! + 2! +1! = 9)\n",
    "def factorial(n):\n",
    "    fact = 1\n",
    "    for i in range(2,n+1):\n",
    "        fact *= i\n",
    "    return fact \n",
    "def digitfactsum(n):\n",
    "    sum = 0\n",
    "    buffer = n\n",
    "    while n != 0:\n",
    "        r = n%10\n",
    "        sum += factorial(r)\n",
    "        n = n // 10\n",
    "    if sum == buffer:\n",
    "        return \"yes\"\n",
    "    else:\n",
    "        return \"no\"\n",
    "    return\n",
    "print(digitfactsum(145))\n",
    "print(digitfactsum(123))"
   ]
  },
  {
   "cell_type": "code",
   "execution_count": null,
   "metadata": {},
   "outputs": [],
   "source": [
    "# function to return the count of palindrome number two limits\n",
    "# input : 1 10\n",
    "# output : 9 (1,2,3,4,5,6,7,8,9)\n",
    "\n",
    "# input : 11 100\n",
    "# output : 9 (11,22,33,44,.......,99)\n",
    "def ispalindrome(n):\n",
    "    rev = 0\n",
    "    buffer = n\n",
    "    while n!= 0:\n",
    "        r= n % 10\n",
    "        rev = rev * 10 + r\n",
    "        n= n // 1\n",
    "    if rev == buffer:\n",
    "        return True\n",
    "    else :\n",
    "        return False\n",
    "    return\n",
    "def countpalindrome(lb,ub):\n",
    "    cnt = 0\n",
    "    while lb != ub:\n",
    "        # Implement\n",
    "        if ispalindrome(lb) == True:\n",
    "            cnt = cnt +1\n",
    "        lb =lb + 1\n",
    "    return cnt\n",
    "countpalindrome(1,10)"
   ]
  },
  {
   "cell_type": "code",
   "execution_count": null,
   "metadata": {},
   "outputs": [],
   "source": [
    "# function to generate the perfect numbers in a given range \n",
    "# perfect number : sum of all its factors same a original number \n",
    "# example : 6 -- 1 2 3 (1 + 2 + 3)\n",
    "# input : 1 10\n",
    "# output : 6\n",
    "def factorslist(n):\n",
    "    sum= 0\n",
    "    for i in range(1,n//2+1):\n",
    "        if n % i ==0:\n",
    "            sum = sum + 1\n",
    "    return sum\n",
    "def isperfect(n):\n",
    "    if factorslist(n) == n:\n",
    "        return True \n",
    "    return False\n",
    "def generateperfect(lb,ub):\n",
    "    for x in range(lb,ub+1):\n",
    "        if isperfect(x):\n",
    "            print(x,end = \" \")\n",
    "    print()\n",
    "    return\n",
    "\n",
    "generateperfect(1,10)\n",
    "generateperfect(1,10000)"
   ]
  },
  {
   "cell_type": "code",
   "execution_count": null,
   "metadata": {},
   "outputs": [],
   "source": []
  }
 ],
 "metadata": {
  "kernelspec": {
   "display_name": "Python 3",
   "language": "python",
   "name": "python3"
  },
  "language_info": {
   "codemirror_mode": {
    "name": "ipython",
    "version": 3
   },
   "file_extension": ".py",
   "mimetype": "text/x-python",
   "name": "python",
   "nbconvert_exporter": "python",
   "pygments_lexer": "ipython3",
   "version": "3.7.3"
  }
 },
 "nbformat": 4,
 "nbformat_minor": 2
}
