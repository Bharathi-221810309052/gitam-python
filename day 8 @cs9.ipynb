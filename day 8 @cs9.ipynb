{
 "cells": [
  {
   "cell_type": "code",
   "execution_count": 2,
   "metadata": {},
   "outputs": [
    {
     "name": "stdout",
     "output_type": "stream",
     "text": [
      "[1, 8, 16, 9, 2]\n",
      "1\n",
      "8\n",
      "2\n",
      "9\n",
      "[8, 16, 9, 2]\n",
      "[8, 16, 9]\n"
     ]
    }
   ],
   "source": [
    "lst = [1,8,16,9,2]#creating the list object in python\n",
    "print(lst) # access the entire list\n",
    "print(lst[0]) # access the first item list\n",
    "print(lst[1]) # access the second item list\n",
    "print(lst[-1]) # access the last item \n",
    "print(lst[-2]) # access the last but one\n",
    "print(lst [1:])# access the item frome second item onwords\n",
    "print(lst[1:4])# access the items from 2nd to last"
   ]
  },
  {
   "cell_type": "code",
   "execution_count": 3,
   "metadata": {},
   "outputs": [
    {
     "name": "stdout",
     "output_type": "stream",
     "text": [
      "['gitam', 'python', 1989, 2002]\n",
      "['gitam', 'python', 2019, 2002]\n"
     ]
    }
   ],
   "source": [
    "#update the list item values using index (direct referencing)\n",
    "li = [\"gitam\",\"python\",1989,2002]\n",
    "print(li)\n",
    "li[2] = 2019\n",
    "print(li)"
   ]
  },
  {
   "cell_type": "code",
   "execution_count": 4,
   "metadata": {},
   "outputs": [
    {
     "name": "stdout",
     "output_type": "stream",
     "text": [
      "['gitam', 'python', 2019, 2002]\n",
      "['gitam', 'python', 2002]\n"
     ]
    }
   ],
   "source": [
    "#delete the specific item in the list \n",
    "print(li)\n",
    "del li[2]\n",
    "print(li)"
   ]
  },
  {
   "cell_type": "code",
   "execution_count": 6,
   "metadata": {},
   "outputs": [
    {
     "name": "stdout",
     "output_type": "stream",
     "text": [
      "5\n",
      "[1, 9, 6, 18, 2, 1, 9, 6, 18, 2]\n",
      "5\n",
      "True\n",
      "False\n",
      "196182"
     ]
    }
   ],
   "source": [
    "# basic list operations\n",
    "lst1 = [1,9,6,18,2]\n",
    "print(len(lst1))# len of the list\n",
    "print(lst1 * 2) # repetation\n",
    "print(len(lst1))\n",
    "print(9 in lst1)# list item is present or not\n",
    "print(15 in lst1)\n",
    "# acces the list items using iteration\n",
    "for x in range(len(lst1)):\n",
    "    print(lst1[x],end= '')"
   ]
  },
  {
   "cell_type": "code",
   "execution_count": 8,
   "metadata": {},
   "outputs": [
    {
     "name": "stdout",
     "output_type": "stream",
     "text": [
      "1\n",
      "18\n",
      "36\n",
      "7\n",
      "13.5\n"
     ]
    }
   ],
   "source": [
    "# function  of the list \n",
    "lst1\n",
    "print(min(lst1)) # min item/element of the list\n",
    "print(max(lst1)) # max element of the list \n",
    "print(sum(lst1)) # sum of the all elements of the list \n",
    "print(sum(lst1)//len(lst1)) # average of list elements \n",
    "print(sum(lst1[1::2])/len(lst1[1::2])) # average of alternative number "
   ]
  },
  {
   "cell_type": "code",
   "execution_count": 10,
   "metadata": {},
   "outputs": [
    {
     "data": {
      "text/plain": [
       "[1, 6, 9, 18, 24, 24, 123, 23, 45]"
      ]
     },
     "execution_count": 10,
     "metadata": {},
     "output_type": "execute_result"
    }
   ],
   "source": [
    "lst1\n",
    "lst1.append(24) # adding a new element at the end of the list\n",
    "lst1\n",
    "lst1.insert(2,56)# adding on elementat particular index\n",
    "lst1\n",
    "lst1.count(18) # return the value how many times the object repeated\n",
    "lst1.index(56)\n",
    "lst1.sort() # it's sort the list in accending order \n",
    "lst1\n",
    "lst1.pop() # remove th last element from the list \n",
    "lst1\n",
    "lst1.pop(1) # remove an element from a particular index\n",
    "lst2 = [123,23,45]\n",
    "lst1.extend(lst2) # merge the list2 intto list1\n",
    "lst1"
   ]
  },
  {
   "cell_type": "code",
   "execution_count": 11,
   "metadata": {},
   "outputs": [
    {
     "data": {
      "text/plain": [
       "[1, 6, 9, 18, 24, 24, 123, 23, 45]"
      ]
     },
     "execution_count": 11,
     "metadata": {},
     "output_type": "execute_result"
    }
   ],
   "source": [
    "lst1"
   ]
  },
  {
   "cell_type": "code",
   "execution_count": 12,
   "metadata": {},
   "outputs": [
    {
     "name": "stdout",
     "output_type": "stream",
     "text": [
      "[3, 2]\n"
     ]
    }
   ],
   "source": [
    "li = [1,9,8,2,6,3]\n",
    "print(li[-1:2:-2])"
   ]
  },
  {
   "cell_type": "code",
   "execution_count": 13,
   "metadata": {},
   "outputs": [
    {
     "data": {
      "text/plain": [
       "18"
      ]
     },
     "execution_count": 13,
     "metadata": {},
     "output_type": "execute_result"
    }
   ],
   "source": [
    "# function to find the second large item from the list \n",
    "# input :  [1,19,6,2,8,18,3]\n",
    "# output : 18\n",
    "def secondlarge(li):\n",
    "    li.sort()\n",
    "    return li[-2]\n",
    "li = [1,19,6,2,8,18,3]\n",
    "secondlarge(li)"
   ]
  },
  {
   "cell_type": "code",
   "execution_count": 26,
   "metadata": {},
   "outputs": [
    {
     "data": {
      "text/plain": [
       "-1"
      ]
     },
     "execution_count": 26,
     "metadata": {},
     "output_type": "execute_result"
    }
   ],
   "source": [
    "\n",
    "def linearsearch(li,taritem):\n",
    "    for x in range(len(li)):\n",
    "        if li[x]==taritem:\n",
    "            return x\n",
    "    return -1\n",
    "li=[1,19,6,2,8,18,3]\n",
    "linearsearch(li,225)\n",
    "\n"
   ]
  },
  {
   "cell_type": "code",
   "execution_count": 28,
   "metadata": {},
   "outputs": [
    {
     "name": "stdout",
     "output_type": "stream",
     "text": [
      "1 4 8 "
     ]
    }
   ],
   "source": [
    "# function \n",
    "# input : [1,5,9,6,5,15,1,2,5],key=5 # duplicate\n",
    "# output : 1 4 8\n",
    "def linearsearch2(li,taritem):\n",
    "    for x in range(len(li)):\n",
    "        if li[x] == taritem:\n",
    "            print(x,end=\" \")\n",
    "    return\n",
    "li = [1,5,9,6,5,15,1,2,5]\n",
    "linearsearch2(li,5) # 1 4 8"
   ]
  },
  {
   "cell_type": "code",
   "execution_count": 29,
   "metadata": {},
   "outputs": [
    {
     "name": "stdout",
     "output_type": "stream",
     "text": [
      " !    ! ! ! !     ! ! ! ! ! ! ! !  "
     ]
    },
    {
     "data": {
      "text/plain": [
       "15"
      ]
     },
     "execution_count": 29,
     "metadata": {},
     "output_type": "execute_result"
    }
   ],
   "source": [
    "def linearsearch(li,tarItem):\n",
    "    for x in range(len(li)):\n",
    "        if li[x]==tarItem:\n",
    "            for i in range(x):\n",
    "                print(\"!\",end=\" \")\n",
    "        print(end=\" \")\n",
    "    return\n",
    "li=[1,5,9,6,5,15,1,2,5]\n",
    "linearsearch(li,5)\n",
    "li=[1,5,9,6,5,15,1,2,5]\n",
    "def sumofmultiples(li):\n",
    "    sum=0\n",
    "    for x in range(len(li)):\n",
    "        if li[x]%3==0 and li[x]%5==0:\n",
    "            sum=sum+li[x]\n",
    "    return sum\n",
    "sumofmultiples(li)"
   ]
  },
  {
   "cell_type": "code",
   "execution_count": 35,
   "metadata": {},
   "outputs": [
    {
     "name": "stdout",
     "output_type": "stream",
     "text": [
      "1 9 19 22 "
     ]
    }
   ],
   "source": [
    "# functon\n",
    "# input : list\n",
    "# output : formatted output\n",
    "# test cases :\n",
    "# [1,6,9,4,16,19,22] -- 1 9 19 22\n",
    "def linearsearch6(li):\n",
    "    # implement the logic\n",
    "    for x in range(len(li)):\n",
    "        if x == 0 or x == len(li) - 1:\n",
    "            print(li[x],end=\" \")\n",
    "        elif li[x-1] % 2 == 0 and li[x+1] %+2 == 0:\n",
    "            print(li[x],end=\" \")\n",
    "    return \n",
    "li = [1,6,9,4,16,19,22]\n",
    "linearsearch6(li) # 1 9 19 22"
   ]
  },
  {
   "cell_type": "code",
   "execution_count": 36,
   "metadata": {},
   "outputs": [
    {
     "data": {
      "text/plain": [
       "[1, 2, 3, 4, 5, 6]"
      ]
     },
     "execution_count": 36,
     "metadata": {},
     "output_type": "execute_result"
    }
   ],
   "source": [
    "def numberlistconverstion(n):\n",
    "    li=[]\n",
    "    while n!=0:\n",
    "        r=n%10\n",
    "        li.append(r)\n",
    "        n=n//10\n",
    "    li.reverse()\n",
    "    return li\n",
    "numberlistconverstion(123456)"
   ]
  },
  {
   "cell_type": "code",
   "execution_count": 37,
   "metadata": {},
   "outputs": [
    {
     "data": {
      "text/plain": [
       "2"
      ]
     },
     "execution_count": 37,
     "metadata": {},
     "output_type": "execute_result"
    }
   ],
   "source": [
    "# function to count the occurances of a character in a \n",
    "# \"python programming\", p -> 2\n",
    "# \"python programming\", m -> 2\n",
    "def countcharoccurances(s,c):\n",
    "    cnt = 0\n",
    "    for ch in s:\n",
    "        if ch == c:\n",
    "            cnt += 1\n",
    "    return cnt\n",
    "countcharoccurances(\"python programming\",'m')"
   ]
  },
  {
   "cell_type": "markdown",
   "metadata": {},
   "source": [
    "### string to List Conversion\n",
    "-- input will be string\n",
    "-- expected output will be list"
   ]
  },
  {
   "cell_type": "code",
   "execution_count": 39,
   "metadata": {},
   "outputs": [
    {
     "data": {
      "text/plain": [
       "[1, 2, 3, 4, 5, 6]"
      ]
     },
     "execution_count": 39,
     "metadata": {},
     "output_type": "execute_result"
    }
   ],
   "source": [
    "#function to convert the string to list\n",
    "# test case\n",
    "# \"1 2 3 4 5 6\" -- [1,2,3,4,5,6]\n",
    "def strintTolistConversion(s):\n",
    "    li = s.split()\n",
    "    numberslist = []\n",
    "    for i in li:\n",
    "        numberslist.append(int(i))\n",
    "    return numberslist\n",
    "s = \"1 2 3 4 5 6\"\n",
    "strintTolistConversion(s) # [1,2,3,4,5,6]"
   ]
  },
  {
   "cell_type": "markdown",
   "metadata": {},
   "source": [
    "### sorting algorithms\n",
    "-- all the sorting algorithms makes the list into ascending order\n",
    "-- Bubble sort\n",
    "-- selection sort \n",
    "-- insertion sort"
   ]
  },
  {
   "cell_type": "markdown",
   "metadata": {},
   "source": [
    "### bubble sort \n",
    "- this algorithm compares the adj elements ,if the first element is greaterr\n",
    "- than second element then its required to swap the elements "
   ]
  },
  {
   "cell_type": "code",
   "execution_count": 40,
   "metadata": {},
   "outputs": [
    {
     "data": {
      "text/plain": [
       "[1, 3, 6, 18, 19, 25]"
      ]
     },
     "execution_count": 40,
     "metadata": {},
     "output_type": "execute_result"
    }
   ],
   "source": [
    "# function to represent the bubble sort \n",
    "def bubblesort(li):\n",
    "    for i in range(len(li)-1):\n",
    "        for j in range(len(li)-1):\n",
    "            if li[j] > li[j+1]:\n",
    "                li[j],li[j+1] = li[j+1],li[j]\n",
    "    return li\n",
    "li = [19,1,25,6,18,3]\n",
    "bubblesort(li)"
   ]
  },
  {
   "cell_type": "code",
   "execution_count": null,
   "metadata": {},
   "outputs": [],
   "source": []
  }
 ],
 "metadata": {
  "kernelspec": {
   "display_name": "Python 3",
   "language": "python",
   "name": "python3"
  },
  "language_info": {
   "codemirror_mode": {
    "name": "ipython",
    "version": 3
   },
   "file_extension": ".py",
   "mimetype": "text/x-python",
   "name": "python",
   "nbconvert_exporter": "python",
   "pygments_lexer": "ipython3",
   "version": "3.7.3"
  }
 },
 "nbformat": 4,
 "nbformat_minor": 2
}
