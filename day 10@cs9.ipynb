{
 "cells": [
  {
   "cell_type": "markdown",
   "metadata": {},
   "source": [
    "### Standard Libraries\n",
    "- file I/O\n",
    "- Regular Expression\n",
    "- Datetime\n",
    "- Math (numerical and Mathematical)"
   ]
  },
  {
   "cell_type": "markdown",
   "metadata": {},
   "source": [
    "### File Handling in Python\n",
    "- File - Document containing information resides on the permenent storage\n",
    "- Different type of files - txt,doc,pdf,csv and etc...\n",
    "- Input - keyboard\n",
    "- Output - File\n",
    "### Modes of the File I/O\n",
    "- 'w' -- this is used to file writing \n",
    "      -- if the file is not present first  it creates the file and write to some data to it\n",
    "      -- if the file is already present then it will rewrite the previous content"
   ]
  },
  {
   "cell_type": "code",
   "execution_count": 2,
   "metadata": {},
   "outputs": [
    {
     "name": "stdout",
     "output_type": "stream",
     "text": [
      "file is created and data has written\n"
     ]
    }
   ],
   "source": [
    "# Function to create a file and write to the file \n",
    "def createfile(filename):\n",
    "    f = open(filename,'w')\n",
    "    for i in range(10):\n",
    "        f.write('this is %d Line'%  i)\n",
    "    print(\"file is created and data has written\")\n",
    "    return\n",
    "createfile('file1.txt')"
   ]
  },
  {
   "cell_type": "code",
   "execution_count": 3,
   "metadata": {},
   "outputs": [
    {
     "name": "stdout",
     "output_type": "stream",
     "text": [
      " Volume in drive C has no label.\n",
      " Volume Serial Number is 5619-CD6C\n",
      "\n",
      " Directory of C:\\Users\\209\n",
      "\n",
      "07/11/2019  04:28 PM    <DIR>          .\n",
      "07/11/2019  04:28 PM    <DIR>          ..\n",
      "05/08/2019  10:34 AM    <DIR>          .anaconda\n",
      "03/14/2017  10:37 AM               145 .appletviewer\n",
      "06/25/2019  10:15 PM               136 .bash_history\n",
      "11/03/2017  10:11 AM                 0 .cdtclient\n",
      "07/06/2019  06:19 PM    <DIR>          .conda\n",
      "07/06/2019  02:41 PM                43 .condarc\n",
      "05/21/2019  11:44 AM                62 .gitconfig\n",
      "03/22/2017  01:07 PM    <DIR>          .idlerc\n",
      "07/11/2019  02:44 PM    <DIR>          .ipynb_checkpoints\n",
      "05/08/2019  10:35 AM    <DIR>          .ipython\n",
      "05/13/2019  10:54 AM    <DIR>          .jupyter\n",
      "05/18/2019  11:07 AM    <DIR>          .matplotlib\n",
      "02/20/2017  09:54 AM    <DIR>          .nbi\n",
      "02/20/2017  10:37 AM    <DIR>          .netbeans-derby\n",
      "11/15/2018  03:15 PM    <DIR>          .oracle_jre_usage\n",
      "02/27/2017  09:46 AM    <DIR>          .PyCharm2016.3\n",
      "02/27/2017  10:09 AM    <DIR>          .PyCharm2017.1\n",
      "02/27/2017  10:09 AM    <DIR>          .yjp\n",
      "05/08/2019  10:32 AM    <DIR>          Anaconda3\n",
      "07/10/2019  08:39 PM             5,185 assignment day9.ipynb\n",
      "05/21/2019  02:09 PM    <DIR>          Bhuvana\n",
      "06/25/2019  04:27 PM             2,599 bubble sort.ipynb\n",
      "05/08/2019  01:55 PM    <DIR>          Contacts\n",
      "07/11/2019  04:28 PM             9,222 day 10@cs9.ipynb\n",
      "07/08/2019  04:37 PM             5,056 day 7 @cs9.ipynb\n",
      "07/09/2019  10:19 PM            11,638 day 8 @cs9.ipynb\n",
      "07/10/2019  09:08 PM            18,141 DAY 9@CS9.ipynb\n",
      "07/06/2019  09:13 PM    <DIR>          Desktop\n",
      "05/13/2019  05:12 PM    <DIR>          Documents\n",
      "07/11/2019  02:45 PM    <DIR>          Downloads\n",
      "05/08/2019  01:55 PM    <DIR>          Favorites\n",
      "07/11/2019  04:31 PM               140 file1.txt\n",
      "07/11/2019  03:35 PM               196 file2.txt\n",
      "06/25/2019  08:31 PM    <DIR>          git\n",
      "06/25/2019  08:30 PM    <DIR>          gitam_training\n",
      "05/08/2019  01:55 PM    <DIR>          Links\n",
      "05/12/2019  12:34 PM             3,956 May 12 2019.ipynb\n",
      "05/08/2019  01:55 PM    <DIR>          Music\n",
      "05/08/2019  01:55 PM    <DIR>          Pictures\n",
      "02/27/2017  10:10 AM    <DIR>          PycharmProjects\n",
      "06/25/2019  10:20 PM             3,545 python1.ipynb\n",
      "05/08/2019  01:55 PM    <DIR>          Saved Games\n",
      "05/08/2019  01:55 PM    <DIR>          Searches\n",
      "02/27/2017  10:10 AM    <DIR>          Snapshots\n",
      "06/21/2019  08:26 PM               555 Untitled.ipynb\n",
      "06/26/2019  08:47 PM            10,015 Untitled1.ipynb\n",
      "06/25/2019  10:18 PM               555 Untitled10.ipynb\n",
      "07/06/2019  04:04 PM             6,089 Untitled11.ipynb\n",
      "06/21/2019  08:53 PM               800 Untitled2.ipynb\n",
      "06/21/2019  10:33 PM               658 Untitled3.ipynb\n",
      "06/22/2019  04:12 PM             2,628 Untitled4.ipynb\n",
      "06/22/2019  04:18 PM             2,221 Untitled5.ipynb\n",
      "06/24/2019  03:43 PM             1,149 Untitled6.ipynb\n",
      "06/24/2019  05:36 PM             2,855 Untitled7.ipynb\n",
      "06/25/2019  07:25 PM               555 Untitled8.ipynb\n",
      "06/25/2019  10:56 PM             2,121 Untitled9.ipynb\n",
      "05/08/2019  01:55 PM    <DIR>          Videos\n",
      "01/04/2017  10:13 AM    <DIR>          workspace\n",
      "              27 File(s)         90,265 bytes\n",
      "              33 Dir(s)  70,253,998,080 bytes free\n"
     ]
    }
   ],
   "source": [
    "ls"
   ]
  },
  {
   "cell_type": "code",
   "execution_count": 4,
   "metadata": {},
   "outputs": [
    {
     "name": "stdout",
     "output_type": "stream",
     "text": [
      "file created and successfully data written\n"
     ]
    }
   ],
   "source": [
    "def appendData(filename):\n",
    "    f = open (filename,'a')\n",
    "    for i in range(10):\n",
    "        f.write(\"this is %d  line\\n\" %  i)\n",
    "    print(\"file created and successfully data written\")\n",
    "    return\n",
    "appendData('file2.txt')"
   ]
  },
  {
   "cell_type": "code",
   "execution_count": 5,
   "metadata": {},
   "outputs": [
    {
     "name": "stdout",
     "output_type": "stream",
     "text": [
      "file created and successfully data written\n"
     ]
    }
   ],
   "source": [
    "def appendData(filename):\n",
    "    f = open (filename,'a')\n",
    "    f.write(\"New Line 1 \\n\")\n",
    "    f.write(\"New line 2 \\n\" )\n",
    "    print(\"file created and successfully data written\")\n",
    "    return\n",
    "appendData('file2.txt')"
   ]
  },
  {
   "cell_type": "code",
   "execution_count": 6,
   "metadata": {},
   "outputs": [
    {
     "name": "stdout",
     "output_type": "stream",
     "text": [
      "this is 0  line\n",
      "this is 1  line\n",
      "this is 2  line\n",
      "this is 3  line\n",
      "this is 4  line\n",
      "this is 5  line\n",
      "this is 6  line\n",
      "this is 7  line\n",
      "this is 8  line\n",
      "this is 9  line\n",
      "New Line 1 \n",
      "New line 2 \n",
      "this is 0  line\n",
      "this is 1  line\n",
      "this is 2  line\n",
      "this is 3  line\n",
      "this is 4  line\n",
      "this is 5  line\n",
      "this is 6  line\n",
      "this is 7  line\n",
      "this is 8  line\n",
      "this is 9  line\n",
      "New Line 1 \n",
      "New line 2 \n",
      "\n"
     ]
    }
   ],
   "source": [
    "# Function to read of the file \n",
    "def readfileData(filename):\n",
    "    f = open(filename,'r')\n",
    "    if f.mode =='r':\n",
    "        x = f.read()\n",
    "        print(x)\n",
    "    f.close()\n",
    "    return\n",
    "readfileData('file2.txt')"
   ]
  },
  {
   "cell_type": "code",
   "execution_count": 8,
   "metadata": {},
   "outputs": [
    {
     "name": "stdout",
     "output_type": "stream",
     "text": [
      "enter the file namefile2.txt\n",
      "enter the mode of the filea\n",
      "the data successfully written\n"
     ]
    }
   ],
   "source": [
    "# Function to read the file\n",
    "def fileOperations(filename,mode):\n",
    "    with open(filename,mode) as f:\n",
    "        if f.mode == 'r':\n",
    "            data = f.read()\n",
    "            print(data)\n",
    "        elif f.mode == 'a':\n",
    "            f.write('Data to the file\\n')\n",
    "            print('the data successfully written')\n",
    "    f.close()\n",
    "    return\n",
    "filename = input('enter the file name')\n",
    "mode = input('enter the mode of the file')\n",
    "fileOperations(filename,mode)"
   ]
  },
  {
   "cell_type": "code",
   "execution_count": 9,
   "metadata": {},
   "outputs": [
    {
     "name": "stdout",
     "output_type": "stream",
     "text": [
      "enter the file name : file2.txt\n",
      "enter the word count you need : this\n"
     ]
    },
    {
     "data": {
      "text/plain": [
       "20"
      ]
     },
     "execution_count": 9,
     "metadata": {},
     "output_type": "execute_result"
    }
   ],
   "source": [
    "#  data analysis\n",
    "# word count program\n",
    "def wordcount(filename,mode):\n",
    "    with open(filename, 'r') as f:\n",
    "        if f.mode == 'r':\n",
    "            x = f.read()\n",
    "            li = x.split()\n",
    "    cnt = li.count(word)        \n",
    "    return cnt\n",
    "filename = input(\"enter the file name : \")\n",
    "word = input(\"enter the word count you need : \") \n",
    "wordcount(filename,mode)"
   ]
  },
  {
   "cell_type": "code",
   "execution_count": 11,
   "metadata": {},
   "outputs": [
    {
     "name": "stdout",
     "output_type": "stream",
     "text": [
      "enter the filename:bubble sort.ipynb\n"
     ]
    },
    {
     "data": {
      "text/plain": [
       "2599"
      ]
     },
     "execution_count": 11,
     "metadata": {},
     "output_type": "execute_result"
    }
   ],
   "source": [
    "# character count from a given file\n",
    "def charcount(filename):\n",
    "    with open(filename,'r') as f:\n",
    "        if f.mode =='r':\n",
    "            x=f.read()\n",
    "            li=list(x)#convert the string-char\n",
    "        return len(li)\n",
    "filename = input('enter the filename:')\n",
    "charcount(filename)\n"
   ]
  },
  {
   "cell_type": "code",
   "execution_count": 15,
   "metadata": {},
   "outputs": [
    {
     "name": "stdout",
     "output_type": "stream",
     "text": [
      "enter the filename : file2.txt\n"
     ]
    },
    {
     "data": {
      "text/plain": [
       "26"
      ]
     },
     "execution_count": 15,
     "metadata": {},
     "output_type": "execute_result"
    }
   ],
   "source": [
    "# Function to first the no of lnes to the input file \n",
    "# input  -- filename(file2.txt)\n",
    "# output -- no of lines(12)\n",
    "def countoflines(filename):\n",
    "    with open(filename,'r') as f:\n",
    "        if f.mode == 'r':\n",
    "            x = f.read()\n",
    "            li = x.split(\"\\n\")\n",
    "    return len(li)\n",
    "filename = input('enter the filename : ')\n",
    "countoflines(filename)"
   ]
  },
  {
   "cell_type": "code",
   "execution_count": 20,
   "metadata": {},
   "outputs": [
    {
     "name": "stdout",
     "output_type": "stream",
     "text": [
      "enter filename :file2.txt\n"
     ]
    },
    {
     "ename": "TypeError",
     "evalue": "'int' object is not iterable",
     "output_type": "error",
     "traceback": [
      "\u001b[1;31m---------------------------------------------------------------------------\u001b[0m",
      "\u001b[1;31mTypeError\u001b[0m                                 Traceback (most recent call last)",
      "\u001b[1;32m<ipython-input-20-723b11aa8d48>\u001b[0m in \u001b[0;36m<module>\u001b[1;34m\u001b[0m\n\u001b[0;32m     13\u001b[0m     \u001b[1;32mreturn\u001b[0m \u001b[0moutput\u001b[0m\u001b[1;33m\u001b[0m\u001b[1;33m\u001b[0m\u001b[0m\n\u001b[0;32m     14\u001b[0m \u001b[0mfilename\u001b[0m \u001b[1;33m=\u001b[0m \u001b[0minput\u001b[0m\u001b[1;33m(\u001b[0m\u001b[1;34m'enter filename :'\u001b[0m\u001b[1;33m)\u001b[0m\u001b[1;33m\u001b[0m\u001b[1;33m\u001b[0m\u001b[0m\n\u001b[1;32m---> 15\u001b[1;33m \u001b[0mcasecount\u001b[0m\u001b[1;33m(\u001b[0m\u001b[0mfilename\u001b[0m\u001b[1;33m)\u001b[0m\u001b[1;33m\u001b[0m\u001b[1;33m\u001b[0m\u001b[0m\n\u001b[0m",
      "\u001b[1;32m<ipython-input-20-723b11aa8d48>\u001b[0m in \u001b[0;36mcasecount\u001b[1;34m(filename)\u001b[0m\n\u001b[0;32m      5\u001b[0m             \u001b[0mx\u001b[0m \u001b[1;33m=\u001b[0m \u001b[0mf\u001b[0m\u001b[1;33m.\u001b[0m\u001b[0mread\u001b[0m\u001b[1;33m(\u001b[0m\u001b[1;33m)\u001b[0m\u001b[1;33m\u001b[0m\u001b[1;33m\u001b[0m\u001b[0m\n\u001b[0;32m      6\u001b[0m             \u001b[0mli\u001b[0m \u001b[1;33m=\u001b[0m \u001b[0mlist\u001b[0m\u001b[1;33m(\u001b[0m\u001b[0mx\u001b[0m\u001b[1;33m)\u001b[0m\u001b[1;33m\u001b[0m\u001b[1;33m\u001b[0m\u001b[0m\n\u001b[1;32m----> 7\u001b[1;33m     \u001b[1;32mfor\u001b[0m \u001b[0mi\u001b[0m \u001b[1;32min\u001b[0m \u001b[1;36m11\u001b[0m\u001b[1;33m:\u001b[0m\u001b[1;33m\u001b[0m\u001b[1;33m\u001b[0m\u001b[0m\n\u001b[0m\u001b[0;32m      8\u001b[0m         \u001b[1;32mif\u001b[0m \u001b[0mi\u001b[0m\u001b[1;33m.\u001b[0m\u001b[0misupper\u001b[0m\u001b[1;33m(\u001b[0m\u001b[1;33m)\u001b[0m\u001b[1;33m:\u001b[0m\u001b[1;33m\u001b[0m\u001b[1;33m\u001b[0m\u001b[0m\n\u001b[0;32m      9\u001b[0m             \u001b[0mcntupper\u001b[0m \u001b[1;33m+=\u001b[0m \u001b[1;36m1\u001b[0m \u001b[1;31m#cntupper =cntupper + 1\u001b[0m\u001b[1;33m\u001b[0m\u001b[1;33m\u001b[0m\u001b[0m\n",
      "\u001b[1;31mTypeError\u001b[0m: 'int' object is not iterable"
     ]
    }
   ],
   "source": [
    "# Function to print the upper and lower characters\n",
    "def casecount(filename):\n",
    "    with open(filename,'r') as f:\n",
    "        if f.mode == 'r':\n",
    "            x = f.read()\n",
    "            li = list(x)\n",
    "    for i in 11:\n",
    "        if i.isupper():\n",
    "            cntupper += 1 #cntupper =cntupper + 1\n",
    "        elif i.islower():\n",
    "            cntlower += 1 # cntlower = cntlower +1\n",
    "    output = 'upper case = {0}, lower case = {1}'.format(cntupper,cntlower)\n",
    "    return output\n",
    "filename = input('enter filename :')\n",
    "casecount(filename)"
   ]
  },
  {
   "cell_type": "markdown",
   "metadata": {},
   "source": [
    " ### math , random, os\n",
    " - os package it contains the certains methods which works with OS\n",
    " "
   ]
  },
  {
   "cell_type": "code",
   "execution_count": 21,
   "metadata": {},
   "outputs": [
    {
     "name": "stdout",
     "output_type": "stream",
     "text": [
      " Volume in drive C has no label.\n",
      " Volume Serial Number is 5619-CD6C\n",
      "\n",
      " Directory of C:\\Users\\209\n",
      "\n",
      "07/11/2019  05:56 PM    <DIR>          .\n",
      "07/11/2019  05:56 PM    <DIR>          ..\n",
      "05/08/2019  10:34 AM    <DIR>          .anaconda\n",
      "03/14/2017  10:37 AM               145 .appletviewer\n",
      "06/25/2019  10:15 PM               136 .bash_history\n",
      "11/03/2017  10:11 AM                 0 .cdtclient\n",
      "07/06/2019  06:19 PM    <DIR>          .conda\n",
      "07/06/2019  02:41 PM                43 .condarc\n",
      "05/21/2019  11:44 AM                62 .gitconfig\n",
      "03/22/2017  01:07 PM    <DIR>          .idlerc\n",
      "07/11/2019  02:44 PM    <DIR>          .ipynb_checkpoints\n",
      "05/08/2019  10:35 AM    <DIR>          .ipython\n",
      "05/13/2019  10:54 AM    <DIR>          .jupyter\n",
      "05/18/2019  11:07 AM    <DIR>          .matplotlib\n",
      "02/20/2017  09:54 AM    <DIR>          .nbi\n",
      "02/20/2017  10:37 AM    <DIR>          .netbeans-derby\n",
      "11/15/2018  03:15 PM    <DIR>          .oracle_jre_usage\n",
      "02/27/2017  09:46 AM    <DIR>          .PyCharm2016.3\n",
      "02/27/2017  10:09 AM    <DIR>          .PyCharm2017.1\n",
      "02/27/2017  10:09 AM    <DIR>          .yjp\n",
      "05/08/2019  10:32 AM    <DIR>          Anaconda3\n",
      "07/10/2019  08:39 PM             5,185 assignment day9.ipynb\n",
      "05/21/2019  02:09 PM    <DIR>          Bhuvana\n",
      "06/25/2019  04:27 PM             2,599 bubble sort.ipynb\n",
      "05/08/2019  01:55 PM    <DIR>          Contacts\n",
      "07/11/2019  05:56 PM            14,934 day 10@cs9.ipynb\n",
      "07/08/2019  04:37 PM             5,056 day 7 @cs9.ipynb\n",
      "07/09/2019  10:19 PM            11,638 day 8 @cs9.ipynb\n",
      "07/10/2019  09:08 PM            18,141 DAY 9@CS9.ipynb\n",
      "07/06/2019  09:13 PM    <DIR>          Desktop\n",
      "05/13/2019  05:12 PM    <DIR>          Documents\n",
      "07/11/2019  02:45 PM    <DIR>          Downloads\n",
      "05/08/2019  01:55 PM    <DIR>          Favorites\n",
      "07/11/2019  04:31 PM               140 file1.txt\n",
      "07/11/2019  04:32 PM               410 file2.txt\n",
      "06/25/2019  08:31 PM    <DIR>          git\n",
      "06/25/2019  08:30 PM    <DIR>          gitam_training\n",
      "05/08/2019  01:55 PM    <DIR>          Links\n",
      "05/12/2019  12:34 PM             3,956 May 12 2019.ipynb\n",
      "05/08/2019  01:55 PM    <DIR>          Music\n",
      "05/08/2019  01:55 PM    <DIR>          Pictures\n",
      "02/27/2017  10:10 AM    <DIR>          PycharmProjects\n",
      "06/25/2019  10:20 PM             3,545 python1.ipynb\n",
      "05/08/2019  01:55 PM    <DIR>          Saved Games\n",
      "05/08/2019  01:55 PM    <DIR>          Searches\n",
      "02/27/2017  10:10 AM    <DIR>          Snapshots\n",
      "06/21/2019  08:26 PM               555 Untitled.ipynb\n",
      "06/26/2019  08:47 PM            10,015 Untitled1.ipynb\n",
      "06/25/2019  10:18 PM               555 Untitled10.ipynb\n",
      "07/06/2019  04:04 PM             6,089 Untitled11.ipynb\n",
      "06/21/2019  08:53 PM               800 Untitled2.ipynb\n",
      "06/21/2019  10:33 PM               658 Untitled3.ipynb\n",
      "06/22/2019  04:12 PM             2,628 Untitled4.ipynb\n",
      "06/22/2019  04:18 PM             2,221 Untitled5.ipynb\n",
      "06/24/2019  03:43 PM             1,149 Untitled6.ipynb\n",
      "06/24/2019  05:36 PM             2,855 Untitled7.ipynb\n",
      "06/25/2019  07:25 PM               555 Untitled8.ipynb\n",
      "06/25/2019  10:56 PM             2,121 Untitled9.ipynb\n",
      "05/08/2019  01:55 PM    <DIR>          Videos\n",
      "01/04/2017  10:13 AM    <DIR>          workspace\n",
      "              27 File(s)         96,191 bytes\n",
      "              33 Dir(s)  70,250,340,352 bytes free\n"
     ]
    }
   ],
   "source": [
    "ls"
   ]
  },
  {
   "cell_type": "code",
   "execution_count": 24,
   "metadata": {},
   "outputs": [
    {
     "name": "stdout",
     "output_type": "stream",
     "text": [
      "[WinError 3] The system cannot find the path specified: 'Desktop/pythonprog/Git'\n",
      "C:\\Users\\209\n"
     ]
    }
   ],
   "source": [
    "cd Desktop/pythonprog/Git"
   ]
  },
  {
   "cell_type": "code",
   "execution_count": 25,
   "metadata": {},
   "outputs": [
    {
     "name": "stdout",
     "output_type": "stream",
     "text": [
      "C:\\Users\\209\\Desktop\n"
     ]
    }
   ],
   "source": [
    "cd Desktop"
   ]
  },
  {
   "cell_type": "code",
   "execution_count": 26,
   "metadata": {},
   "outputs": [
    {
     "name": "stdout",
     "output_type": "stream",
     "text": [
      " Volume in drive C has no label.\n",
      " Volume Serial Number is 5619-CD6C\n",
      "\n",
      " Directory of C:\\Users\\209\\Desktop\n",
      "\n",
      "07/06/2019  09:13 PM    <DIR>          .\n",
      "07/06/2019  09:13 PM    <DIR>          ..\n",
      "06/26/2019  02:45 PM    <DIR>          .ipynb_checkpoints\n",
      "06/25/2019  09:52 PM             2,599 bubble sort.ipynb\n",
      "06/25/2019  09:53 PM             1,023 bubble sort.ipynb - Shortcut.lnk\n",
      "12/01/2016  09:37 AM               958 Dev-C++.lnk\n",
      "12/01/2016  09:29 AM               605 eclipse - Shortcut.lnk\n",
      "06/25/2019  08:38 PM    <DIR>          git\n",
      "06/25/2019  08:33 PM    <DIR>          gitam-training\n",
      "07/06/2019  09:13 PM             3,025 NATA_Online.lnk\n",
      "06/21/2019  08:49 PM               800 Untitled1.ipynb\n",
      "               6 File(s)          9,010 bytes\n",
      "               5 Dir(s)  70,250,184,704 bytes free\n"
     ]
    }
   ],
   "source": [
    "ls"
   ]
  },
  {
   "cell_type": "code",
   "execution_count": 28,
   "metadata": {},
   "outputs": [
    {
     "data": {
      "text/plain": [
       "['.git']"
      ]
     },
     "execution_count": 28,
     "metadata": {},
     "output_type": "execute_result"
    }
   ],
   "source": [
    "import os\n",
    "os.listdir('Git/') # listdir() -- ls"
   ]
  },
  {
   "cell_type": "code",
   "execution_count": 29,
   "metadata": {},
   "outputs": [
    {
     "name": "stdout",
     "output_type": "stream",
     "text": [
      ".git\n"
     ]
    }
   ],
   "source": [
    "li = os.listdir('Git/')\n",
    "for i in li:\n",
    "    print(i)"
   ]
  },
  {
   "cell_type": "markdown",
   "metadata": {},
   "source": [
    "- older version python -- os.listdir()\n",
    "- new verison python -- os.scandir() and pathlib.Path()"
   ]
  },
  {
   "cell_type": "code",
   "execution_count": 30,
   "metadata": {},
   "outputs": [
    {
     "name": "stdout",
     "output_type": "stream",
     "text": [
      "<DirEntry '.git'>\n"
     ]
    }
   ],
   "source": [
    "li = os.scandir('Git/')\n",
    "for i in li :\n",
    "    print(i)"
   ]
  },
  {
   "cell_type": "code",
   "execution_count": 33,
   "metadata": {},
   "outputs": [
    {
     "name": "stdout",
     "output_type": "stream",
     "text": [
      ".git\n"
     ]
    }
   ],
   "source": [
    "from pathlib import Path\n",
    "li = Path('Git/')\n",
    "for i in li.iterdir():\n",
    "    print(i.name)"
   ]
  },
  {
   "cell_type": "code",
   "execution_count": null,
   "metadata": {},
   "outputs": [],
   "source": []
  }
 ],
 "metadata": {
  "kernelspec": {
   "display_name": "Python 3",
   "language": "python",
   "name": "python3"
  }
 },
 "nbformat": 4,
 "nbformat_minor": 2
}
